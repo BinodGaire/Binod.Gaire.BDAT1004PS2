{
 "cells": [
  {
   "cell_type": "markdown",
   "metadata": {},
   "source": [
    "# Question 1\n",
    "Consider the following Python module:\n",
    "a = 0\n",
    "def b():\n",
    " global a\n",
    " a = c(a)\n",
    "def c(a):\n",
    " return a + 2\n",
    "After importing the module into the interpreter, you execute:\n",
    ">>> b()\n",
    ">>> b()\n",
    ">>> b()\n",
    ">>> a\n",
    "?\n",
    "What value is displayed when the last expression (a) is evaluated? Explain your\n",
    "answer by indicating what happens in every executed statement."
   ]
  },
  {
   "cell_type": "code",
   "execution_count": 1,
   "metadata": {},
   "outputs": [
    {
     "data": {
      "text/plain": [
       "6"
      ]
     },
     "execution_count": 1,
     "metadata": {},
     "output_type": "execute_result"
    }
   ],
   "source": [
    "a = 0\n",
    "def b():\n",
    " global a\n",
    " a = c(a)\n",
    "def c(a):\n",
    " return a + 2\n",
    "b()\n",
    "b()\n",
    "b()\n",
    "a"
   ]
  },
  {
   "cell_type": "markdown",
   "metadata": {},
   "source": [
    "Answer: The value of a is 6. Every time when the function c(a) is executed then 2 is added and since the value of 'a' is 0, 0+2 =2 and when b() is run on each time then 2 is added each time so 0+2+2+2 = 6"
   ]
  },
  {
   "cell_type": "markdown",
   "metadata": {},
   "source": [
    "# Question 2\n",
    "Function fileLength(), given to you, takes the name of a file as input and returns\n",
    "the length of the file:\n",
    ">>> fileLength('midterm.py')\n",
    "284\n",
    ">>> fileLength('idterm.py')\n",
    "Traceback (most recent call last):\n",
    "File \"<pyshell#34>\", line 1, in <module>\n",
    " fileLength('idterm.py')\n",
    "File \"/Users/me/midterm.py\", line 3, in fileLength\n",
    " infile = open(filename)\n",
    "FileNotFoundError: [Errno 2] No such file or directory:\n",
    "'idterm.py'\n",
    "As shown above, if the file cannot be found by the interpreter or if it cannot be read\n",
    "as a text file, an exception will be raised. Modify function fileLength() so that a\n",
    "friendly message is printed instead:\n",
    ">>> fileLength('midterm.py')\n",
    "358\n",
    ">>> fileLength('idterm.py')\n",
    "File idterm.py not found."
   ]
  },
  {
   "cell_type": "code",
   "execution_count": null,
   "metadata": {},
   "outputs": [],
   "source": []
  },
  {
   "cell_type": "markdown",
   "metadata": {},
   "source": [
    "# Question 3\n",
    "Write a class named Marsupial that can be used as shown below:\n",
    ">>> m = Marsupial()\n",
    ">>> m.put_in_pouch('doll')\n",
    ">>> m.put_in_pouch('firetruck')\n",
    ">>> m.put_in_pouch('kitten')\n",
    ">>> m.pouch_contents()\n",
    "['doll', 'firetruck', 'kitten']\n",
    "Now write a class named Kangaroo as a subclass of Marsupial that inherits all the\n",
    "attributes of Marsupial and also:\n",
    "a. extends the Marsupial __init__ constructor to take, as input, the\n",
    "coordinates x and y of the Kangaroo object,\n",
    "b. supports method jump that takes number values dx and dy as input and\n",
    "moves the kangaroo by dx units along the x-axis and by dy units along the yaxis, and\n",
    "c. overloads the __str__ operator so it behaves as shown below.\n",
    ">>> k = Kangaroo(0,0)\n",
    ">>> print(k)\n",
    "I am a Kangaroo located at coordinates (0,0)\n",
    ">>> k.put_in_pouch('doll')\n",
    ">>> k.put_in_pouch('firetruck')\n",
    ">>> k.put_in_pouch('kitten')\n",
    ">>> k.pouch_contents()\n",
    "['doll', 'firetruck', 'kitten']\n",
    ">>> k.jump(1,0)\n",
    ">>> k.jump(1,0)\n",
    ">>> k.jump(1,0)\n",
    ">>> print(k)\n",
    "I am a Kangaroo located at coordinates (3,0)"
   ]
  },
  {
   "cell_type": "code",
   "execution_count": null,
   "metadata": {},
   "outputs": [],
   "source": []
  },
  {
   "cell_type": "markdown",
   "metadata": {},
   "source": [
    "# Question 4\n",
    "Write function collatz() that takes a positive integer x as input and prints the\n",
    "Collatz sequence starting at x. A Collatz sequence is obtained by repeatedly applying\n",
    "this rule to the previous number x in the sequence:\n",
    "x = {\n",
    "𝑥/2 𝑖𝑓 𝑥 𝑖𝑠 𝑒𝑣𝑒𝑛\n",
    "3𝑥 + 1 𝑖𝑓 𝑥 𝑖𝑠 𝑜𝑑𝑑\n",
    "Your function should stop when the sequence gets to number 1. Your\n",
    "implementation must be recursive, without any loops.\n",
    ">>> collatz(1)\n",
    "1\n",
    ">>> collatz(10)\n",
    "10\n",
    "5\n",
    "16\n",
    "8\n",
    "4\n",
    "2\n",
    "1"
   ]
  },
  {
   "cell_type": "code",
   "execution_count": 5,
   "metadata": {},
   "outputs": [
    {
     "name": "stdout",
     "output_type": "stream",
     "text": [
      "Enter a Positive Integer: 10\n",
      "5\n",
      "16\n",
      "8\n",
      "4\n",
      "2\n",
      "1\n"
     ]
    }
   ],
   "source": [
    "def collatz(x):\n",
    "    if x % 2 == 0:\n",
    "        print(x // 2)\n",
    "        return x // 2\n",
    "    elif x % 2 == 1:\n",
    "        result = 3 * x + 1\n",
    "        print(result)\n",
    "        return result\n",
    "y = input(\"Enter a Positive Integer: \")\n",
    "while y != 1:\n",
    "    y = collatz(int(y))"
   ]
  },
  {
   "cell_type": "markdown",
   "metadata": {},
   "source": [
    "# Question 5\n",
    "Write a recursive method binary() that takes a non-negative\n",
    "integer n and prints the binary representation of integer n.\n",
    ">>> binary(0)\n",
    "0\n",
    ">>> binary(1)\n",
    "1\n",
    ">>> binary(3)\n",
    "11\n",
    ">>> binary(9)\n",
    "1001"
   ]
  },
  {
   "cell_type": "code",
   "execution_count": 6,
   "metadata": {},
   "outputs": [
    {
     "data": {
      "text/plain": [
       "'0'"
      ]
     },
     "execution_count": 6,
     "metadata": {},
     "output_type": "execute_result"
    }
   ],
   "source": [
    "def binary(b):\n",
    "    a=str(b%2)\n",
    "    if b>>1>0:\n",
    "        a += binary(b>>1)\n",
    "    return a\n",
    "binary(0)"
   ]
  },
  {
   "cell_type": "code",
   "execution_count": 7,
   "metadata": {},
   "outputs": [
    {
     "data": {
      "text/plain": [
       "'1'"
      ]
     },
     "execution_count": 7,
     "metadata": {},
     "output_type": "execute_result"
    }
   ],
   "source": [
    "binary(1)"
   ]
  },
  {
   "cell_type": "code",
   "execution_count": 8,
   "metadata": {},
   "outputs": [
    {
     "data": {
      "text/plain": [
       "'11'"
      ]
     },
     "execution_count": 8,
     "metadata": {},
     "output_type": "execute_result"
    }
   ],
   "source": [
    "binary(3)"
   ]
  },
  {
   "cell_type": "code",
   "execution_count": 9,
   "metadata": {},
   "outputs": [
    {
     "data": {
      "text/plain": [
       "'1001'"
      ]
     },
     "execution_count": 9,
     "metadata": {},
     "output_type": "execute_result"
    }
   ],
   "source": [
    "binary(9)"
   ]
  },
  {
   "cell_type": "markdown",
   "metadata": {},
   "source": [
    "# Question 6\n",
    "Implement a class named HeadingParser that can be used to parse an HTML\n",
    "document, and retrieve and print all the headings in the document. You should\n",
    "implement your class as a subclass of HTMLParser, defined in Standard Library\n",
    "module html.parser. When fed a string containing HTML code, your class should\n",
    "print the headings, one per line and in the order in which they appear in the\n",
    "document. Each heading should be indented as follows: an h1 heading should have\n",
    "indentation 0, and h2 heading should have indentation 1, etc. Test your\n",
    "implementation using w3c.html.\n",
    ">>> infile = open('w3c.html')\n",
    ">>> content = infile.read()\n",
    ">>> infile.close()\n",
    ">>> hp = HeadingParser()\n",
    ">>> hp.feed(content)\n",
    "W3C Mission\n",
    "Principles"
   ]
  },
  {
   "cell_type": "code",
   "execution_count": 54,
   "metadata": {},
   "outputs": [],
   "source": [
    "from html.parser import HTMLParser"
   ]
  },
  {
   "cell_type": "code",
   "execution_count": null,
   "metadata": {},
   "outputs": [],
   "source": [
    "class HeadingParser(HTMLParser);\n",
    " heading = ['h1','h2','h3']\n",
    "\n",
    "    "
   ]
  },
  {
   "cell_type": "markdown",
   "metadata": {},
   "source": [
    "# Question 7\n",
    "Implement recursive function webdir() that takes as input: a URL (as a string) and\n",
    "non-negative integers depth and indent. Your function should visit every web\n",
    "page reachable from the starting URL web page in depth clicks or less, and print\n",
    "each web page's URL. As shown below, indentation, specified by indent, should\n",
    "be used to indicate the depth of a URL.\n",
    ">>>\n",
    "webdir('http://reed.cs.depaul.edu/lperkovic/csc242/test1.html'\n",
    ", 2, 0)\n",
    "http://reed.cs.depaul.edu/lperkovic/csc242/test1.html\n",
    " http://reed.cs.depaul.edu/lperkovic/csc242/test2.html\n",
    " http://reed.cs.depaul.edu/lperkovic/csc242/test4.html\n",
    " http://reed.cs.depaul.edu/lperkovic/csc242/test3.html\n",
    " http://reed.cs.depaul.edu/lperkovic/csc242/test4.html"
   ]
  },
  {
   "cell_type": "code",
   "execution_count": null,
   "metadata": {},
   "outputs": [],
   "source": [
    "def webdir(a):\n",
    "    "
   ]
  },
  {
   "cell_type": "markdown",
   "metadata": {},
   "source": [
    "# Question 8\n",
    "Write SQL queries on the below database table that return:"
   ]
  },
  {
   "cell_type": "code",
   "execution_count": 11,
   "metadata": {},
   "outputs": [],
   "source": [
    "%load_ext sql"
   ]
  },
  {
   "cell_type": "code",
   "execution_count": 12,
   "metadata": {},
   "outputs": [
    {
     "data": {
      "text/plain": [
       "'Connected: @None'"
      ]
     },
     "execution_count": 12,
     "metadata": {},
     "output_type": "execute_result"
    }
   ],
   "source": [
    "%sql sqlite://"
   ]
  },
  {
   "cell_type": "code",
   "execution_count": 41,
   "metadata": {},
   "outputs": [
    {
     "name": "stdout",
     "output_type": "stream",
     "text": [
      " * sqlite://\n",
      "Done.\n"
     ]
    },
    {
     "data": {
      "text/plain": [
       "[]"
      ]
     },
     "execution_count": 41,
     "metadata": {},
     "output_type": "execute_result"
    }
   ],
   "source": [
    "%%sql\n",
    "CREATE TABLE Dataset\n",
    "(\n",
    "    City varchar(20),\n",
    "    Country varchar(20),\n",
    "    Season varchar(20),\n",
    "    Temperature float,\n",
    "    Rainfall float\n",
    ");"
   ]
  },
  {
   "cell_type": "code",
   "execution_count": 43,
   "metadata": {},
   "outputs": [
    {
     "name": "stdout",
     "output_type": "stream",
     "text": [
      " * sqlite://\n",
      "12 rows affected.\n"
     ]
    },
    {
     "data": {
      "text/plain": [
       "[]"
      ]
     },
     "execution_count": 43,
     "metadata": {},
     "output_type": "execute_result"
    }
   ],
   "source": [
    "%%sql\n",
    "INSERT INTO Dataset VALUES\n",
    "('Mumbai','India', 'Winter',24.8,5.9),\n",
    "('Mumbai','India', 'Spring',28.4,16.2),\n",
    "('Mumbai','India', 'Summer',27.9,1549.4),\n",
    "('Mumbai','India', 'Fall',27.6,346.0 ),\n",
    "('London','United Kingdom','Winter',4.2,207.7 ),\n",
    "('London','United Kingdom','Spring',8.3,169.6 ),\n",
    "('London','United Kingdom','Summer', 15.7,157.0),\n",
    "('London','United Kingdom','Fall', 10.4,218.5),\n",
    "('Cairo','Egypt','Winter', 13.6,16.5),\n",
    "('Cairo','Egypt','Spring', 20.7,6.5),\n",
    "('Cairo','Egypt','Summer',27.7,0.1),\n",
    "('Cairo','Egypt','Fall', 22.2,4.5)"
   ]
  },
  {
   "cell_type": "code",
   "execution_count": 44,
   "metadata": {},
   "outputs": [
    {
     "name": "stdout",
     "output_type": "stream",
     "text": [
      " * sqlite://\n",
      "Done.\n"
     ]
    },
    {
     "data": {
      "text/html": [
       "<table>\n",
       "    <thead>\n",
       "        <tr>\n",
       "            <th>City</th>\n",
       "            <th>Country</th>\n",
       "            <th>Season</th>\n",
       "            <th>Temperature</th>\n",
       "            <th>Rainfall</th>\n",
       "        </tr>\n",
       "    </thead>\n",
       "    <tbody>\n",
       "        <tr>\n",
       "            <td>Mumbai</td>\n",
       "            <td>India</td>\n",
       "            <td>Winter</td>\n",
       "            <td>24.8</td>\n",
       "            <td>5.9</td>\n",
       "        </tr>\n",
       "        <tr>\n",
       "            <td>Mumbai</td>\n",
       "            <td>India</td>\n",
       "            <td>Spring</td>\n",
       "            <td>28.4</td>\n",
       "            <td>16.2</td>\n",
       "        </tr>\n",
       "        <tr>\n",
       "            <td>Mumbai</td>\n",
       "            <td>India</td>\n",
       "            <td>Summer</td>\n",
       "            <td>27.9</td>\n",
       "            <td>1549.4</td>\n",
       "        </tr>\n",
       "        <tr>\n",
       "            <td>Mumbai</td>\n",
       "            <td>India</td>\n",
       "            <td>Fall</td>\n",
       "            <td>27.6</td>\n",
       "            <td>346.0</td>\n",
       "        </tr>\n",
       "        <tr>\n",
       "            <td>London</td>\n",
       "            <td>United Kingdom</td>\n",
       "            <td>Winter</td>\n",
       "            <td>4.2</td>\n",
       "            <td>207.7</td>\n",
       "        </tr>\n",
       "        <tr>\n",
       "            <td>London</td>\n",
       "            <td>United Kingdom</td>\n",
       "            <td>Spring</td>\n",
       "            <td>8.3</td>\n",
       "            <td>169.6</td>\n",
       "        </tr>\n",
       "        <tr>\n",
       "            <td>London</td>\n",
       "            <td>United Kingdom</td>\n",
       "            <td>Summer</td>\n",
       "            <td>15.7</td>\n",
       "            <td>157.0</td>\n",
       "        </tr>\n",
       "        <tr>\n",
       "            <td>London</td>\n",
       "            <td>United Kingdom</td>\n",
       "            <td>Fall</td>\n",
       "            <td>10.4</td>\n",
       "            <td>218.5</td>\n",
       "        </tr>\n",
       "        <tr>\n",
       "            <td>Cairo</td>\n",
       "            <td>Egypt</td>\n",
       "            <td>Winter</td>\n",
       "            <td>13.6</td>\n",
       "            <td>16.5</td>\n",
       "        </tr>\n",
       "        <tr>\n",
       "            <td>Cairo</td>\n",
       "            <td>Egypt</td>\n",
       "            <td>Spring</td>\n",
       "            <td>20.7</td>\n",
       "            <td>6.5</td>\n",
       "        </tr>\n",
       "        <tr>\n",
       "            <td>Cairo</td>\n",
       "            <td>Egypt</td>\n",
       "            <td>Summer</td>\n",
       "            <td>27.7</td>\n",
       "            <td>0.1</td>\n",
       "        </tr>\n",
       "        <tr>\n",
       "            <td>Cairo</td>\n",
       "            <td>Egypt</td>\n",
       "            <td>Fall</td>\n",
       "            <td>22.2</td>\n",
       "            <td>4.5</td>\n",
       "        </tr>\n",
       "    </tbody>\n",
       "</table>"
      ],
      "text/plain": [
       "[('Mumbai', 'India', 'Winter', 24.8, 5.9),\n",
       " ('Mumbai', 'India', 'Spring', 28.4, 16.2),\n",
       " ('Mumbai', 'India', 'Summer', 27.9, 1549.4),\n",
       " ('Mumbai', 'India', 'Fall', 27.6, 346.0),\n",
       " ('London', 'United Kingdom', 'Winter', 4.2, 207.7),\n",
       " ('London', 'United Kingdom', 'Spring', 8.3, 169.6),\n",
       " ('London', 'United Kingdom', 'Summer', 15.7, 157.0),\n",
       " ('London', 'United Kingdom', 'Fall', 10.4, 218.5),\n",
       " ('Cairo', 'Egypt', 'Winter', 13.6, 16.5),\n",
       " ('Cairo', 'Egypt', 'Spring', 20.7, 6.5),\n",
       " ('Cairo', 'Egypt', 'Summer', 27.7, 0.1),\n",
       " ('Cairo', 'Egypt', 'Fall', 22.2, 4.5)]"
      ]
     },
     "execution_count": 44,
     "metadata": {},
     "output_type": "execute_result"
    }
   ],
   "source": [
    "%sql select * from Dataset"
   ]
  },
  {
   "cell_type": "markdown",
   "metadata": {},
   "source": [
    "# a) All the temperature data."
   ]
  },
  {
   "cell_type": "code",
   "execution_count": 46,
   "metadata": {},
   "outputs": [
    {
     "name": "stdout",
     "output_type": "stream",
     "text": [
      " * sqlite://\n",
      "Done.\n"
     ]
    },
    {
     "data": {
      "text/html": [
       "<table>\n",
       "    <thead>\n",
       "        <tr>\n",
       "            <th>Temperature</th>\n",
       "        </tr>\n",
       "    </thead>\n",
       "    <tbody>\n",
       "        <tr>\n",
       "            <td>24.8</td>\n",
       "        </tr>\n",
       "        <tr>\n",
       "            <td>28.4</td>\n",
       "        </tr>\n",
       "        <tr>\n",
       "            <td>27.9</td>\n",
       "        </tr>\n",
       "        <tr>\n",
       "            <td>27.6</td>\n",
       "        </tr>\n",
       "        <tr>\n",
       "            <td>4.2</td>\n",
       "        </tr>\n",
       "        <tr>\n",
       "            <td>8.3</td>\n",
       "        </tr>\n",
       "        <tr>\n",
       "            <td>15.7</td>\n",
       "        </tr>\n",
       "        <tr>\n",
       "            <td>10.4</td>\n",
       "        </tr>\n",
       "        <tr>\n",
       "            <td>13.6</td>\n",
       "        </tr>\n",
       "        <tr>\n",
       "            <td>20.7</td>\n",
       "        </tr>\n",
       "        <tr>\n",
       "            <td>27.7</td>\n",
       "        </tr>\n",
       "        <tr>\n",
       "            <td>22.2</td>\n",
       "        </tr>\n",
       "    </tbody>\n",
       "</table>"
      ],
      "text/plain": [
       "[(24.8,),\n",
       " (28.4,),\n",
       " (27.9,),\n",
       " (27.6,),\n",
       " (4.2,),\n",
       " (8.3,),\n",
       " (15.7,),\n",
       " (10.4,),\n",
       " (13.6,),\n",
       " (20.7,),\n",
       " (27.7,),\n",
       " (22.2,)]"
      ]
     },
     "execution_count": 46,
     "metadata": {},
     "output_type": "execute_result"
    }
   ],
   "source": [
    "%sql select Temperature from Dataset"
   ]
  },
  {
   "cell_type": "markdown",
   "metadata": {},
   "source": [
    "# b) All the cities, but without repetition"
   ]
  },
  {
   "cell_type": "code",
   "execution_count": 47,
   "metadata": {},
   "outputs": [
    {
     "name": "stdout",
     "output_type": "stream",
     "text": [
      " * sqlite://\n",
      "Done.\n"
     ]
    },
    {
     "data": {
      "text/html": [
       "<table>\n",
       "    <thead>\n",
       "        <tr>\n",
       "            <th>City</th>\n",
       "        </tr>\n",
       "    </thead>\n",
       "    <tbody>\n",
       "        <tr>\n",
       "            <td>Mumbai</td>\n",
       "        </tr>\n",
       "        <tr>\n",
       "            <td>London</td>\n",
       "        </tr>\n",
       "        <tr>\n",
       "            <td>Cairo</td>\n",
       "        </tr>\n",
       "    </tbody>\n",
       "</table>"
      ],
      "text/plain": [
       "[('Mumbai',), ('London',), ('Cairo',)]"
      ]
     },
     "execution_count": 47,
     "metadata": {},
     "output_type": "execute_result"
    }
   ],
   "source": [
    "%sql select distinct city from Dataset"
   ]
  },
  {
   "cell_type": "markdown",
   "metadata": {},
   "source": [
    "# c) All the records for India"
   ]
  },
  {
   "cell_type": "code",
   "execution_count": 48,
   "metadata": {},
   "outputs": [
    {
     "name": "stdout",
     "output_type": "stream",
     "text": [
      " * sqlite://\n",
      "Done.\n"
     ]
    },
    {
     "data": {
      "text/html": [
       "<table>\n",
       "    <thead>\n",
       "        <tr>\n",
       "            <th>City</th>\n",
       "            <th>Country</th>\n",
       "            <th>Season</th>\n",
       "            <th>Temperature</th>\n",
       "            <th>Rainfall</th>\n",
       "        </tr>\n",
       "    </thead>\n",
       "    <tbody>\n",
       "        <tr>\n",
       "            <td>Mumbai</td>\n",
       "            <td>India</td>\n",
       "            <td>Winter</td>\n",
       "            <td>24.8</td>\n",
       "            <td>5.9</td>\n",
       "        </tr>\n",
       "        <tr>\n",
       "            <td>Mumbai</td>\n",
       "            <td>India</td>\n",
       "            <td>Spring</td>\n",
       "            <td>28.4</td>\n",
       "            <td>16.2</td>\n",
       "        </tr>\n",
       "        <tr>\n",
       "            <td>Mumbai</td>\n",
       "            <td>India</td>\n",
       "            <td>Summer</td>\n",
       "            <td>27.9</td>\n",
       "            <td>1549.4</td>\n",
       "        </tr>\n",
       "        <tr>\n",
       "            <td>Mumbai</td>\n",
       "            <td>India</td>\n",
       "            <td>Fall</td>\n",
       "            <td>27.6</td>\n",
       "            <td>346.0</td>\n",
       "        </tr>\n",
       "    </tbody>\n",
       "</table>"
      ],
      "text/plain": [
       "[('Mumbai', 'India', 'Winter', 24.8, 5.9),\n",
       " ('Mumbai', 'India', 'Spring', 28.4, 16.2),\n",
       " ('Mumbai', 'India', 'Summer', 27.9, 1549.4),\n",
       " ('Mumbai', 'India', 'Fall', 27.6, 346.0)]"
      ]
     },
     "execution_count": 48,
     "metadata": {},
     "output_type": "execute_result"
    }
   ],
   "source": [
    "%sql select * from Dataset where Country ='India'"
   ]
  },
  {
   "cell_type": "markdown",
   "metadata": {},
   "source": [
    "# d) All the Fall records. "
   ]
  },
  {
   "cell_type": "code",
   "execution_count": 49,
   "metadata": {},
   "outputs": [
    {
     "name": "stdout",
     "output_type": "stream",
     "text": [
      " * sqlite://\n",
      "Done.\n"
     ]
    },
    {
     "data": {
      "text/html": [
       "<table>\n",
       "    <thead>\n",
       "        <tr>\n",
       "            <th>City</th>\n",
       "            <th>Country</th>\n",
       "            <th>Season</th>\n",
       "            <th>Temperature</th>\n",
       "            <th>Rainfall</th>\n",
       "        </tr>\n",
       "    </thead>\n",
       "    <tbody>\n",
       "        <tr>\n",
       "            <td>Mumbai</td>\n",
       "            <td>India</td>\n",
       "            <td>Fall</td>\n",
       "            <td>27.6</td>\n",
       "            <td>346.0</td>\n",
       "        </tr>\n",
       "        <tr>\n",
       "            <td>London</td>\n",
       "            <td>United Kingdom</td>\n",
       "            <td>Fall</td>\n",
       "            <td>10.4</td>\n",
       "            <td>218.5</td>\n",
       "        </tr>\n",
       "        <tr>\n",
       "            <td>Cairo</td>\n",
       "            <td>Egypt</td>\n",
       "            <td>Fall</td>\n",
       "            <td>22.2</td>\n",
       "            <td>4.5</td>\n",
       "        </tr>\n",
       "    </tbody>\n",
       "</table>"
      ],
      "text/plain": [
       "[('Mumbai', 'India', 'Fall', 27.6, 346.0),\n",
       " ('London', 'United Kingdom', 'Fall', 10.4, 218.5),\n",
       " ('Cairo', 'Egypt', 'Fall', 22.2, 4.5)]"
      ]
     },
     "execution_count": 49,
     "metadata": {},
     "output_type": "execute_result"
    }
   ],
   "source": [
    "%sql select * from Dataset where Season=\"Fall\""
   ]
  },
  {
   "cell_type": "markdown",
   "metadata": {},
   "source": [
    "# e) The city, country, and season for which the average rainfall is between 200 and 400 millimeters."
   ]
  },
  {
   "cell_type": "code",
   "execution_count": 50,
   "metadata": {},
   "outputs": [
    {
     "name": "stdout",
     "output_type": "stream",
     "text": [
      " * sqlite://\n",
      "Done.\n"
     ]
    },
    {
     "data": {
      "text/html": [
       "<table>\n",
       "    <thead>\n",
       "        <tr>\n",
       "            <th>City</th>\n",
       "            <th>Country</th>\n",
       "            <th>Season</th>\n",
       "        </tr>\n",
       "    </thead>\n",
       "    <tbody>\n",
       "        <tr>\n",
       "            <td>Mumbai</td>\n",
       "            <td>India</td>\n",
       "            <td>Fall</td>\n",
       "        </tr>\n",
       "        <tr>\n",
       "            <td>London</td>\n",
       "            <td>United Kingdom</td>\n",
       "            <td>Winter</td>\n",
       "        </tr>\n",
       "        <tr>\n",
       "            <td>London</td>\n",
       "            <td>United Kingdom</td>\n",
       "            <td>Fall</td>\n",
       "        </tr>\n",
       "    </tbody>\n",
       "</table>"
      ],
      "text/plain": [
       "[('Mumbai', 'India', 'Fall'),\n",
       " ('London', 'United Kingdom', 'Winter'),\n",
       " ('London', 'United Kingdom', 'Fall')]"
      ]
     },
     "execution_count": 50,
     "metadata": {},
     "output_type": "execute_result"
    }
   ],
   "source": [
    "%sql select City, Country, Season from Dataset where Rainfall Between 200 and 400"
   ]
  },
  {
   "cell_type": "markdown",
   "metadata": {},
   "source": [
    "# f) The city and country for which the average Fall temperature is above 20 degrees, in increasing temperature order"
   ]
  },
  {
   "cell_type": "code",
   "execution_count": 51,
   "metadata": {},
   "outputs": [
    {
     "name": "stdout",
     "output_type": "stream",
     "text": [
      " * sqlite://\n",
      "Done.\n"
     ]
    },
    {
     "data": {
      "text/html": [
       "<table>\n",
       "    <thead>\n",
       "        <tr>\n",
       "            <th>City</th>\n",
       "            <th>Country</th>\n",
       "            <th>Temperature</th>\n",
       "        </tr>\n",
       "    </thead>\n",
       "    <tbody>\n",
       "        <tr>\n",
       "            <td>Mumbai</td>\n",
       "            <td>India</td>\n",
       "            <td>27.6</td>\n",
       "        </tr>\n",
       "        <tr>\n",
       "            <td>Cairo</td>\n",
       "            <td>Egypt</td>\n",
       "            <td>22.2</td>\n",
       "        </tr>\n",
       "    </tbody>\n",
       "</table>"
      ],
      "text/plain": [
       "[('Mumbai', 'India', 27.6), ('Cairo', 'Egypt', 22.2)]"
      ]
     },
     "execution_count": 51,
     "metadata": {},
     "output_type": "execute_result"
    }
   ],
   "source": [
    "%sql select City, Country, Temperature from Dataset where Season =='Fall' and Temperature >20"
   ]
  },
  {
   "cell_type": "markdown",
   "metadata": {},
   "source": [
    "# g) The total annual rainfall for Cairo."
   ]
  },
  {
   "cell_type": "code",
   "execution_count": 52,
   "metadata": {},
   "outputs": [
    {
     "name": "stdout",
     "output_type": "stream",
     "text": [
      " * sqlite://\n",
      "Done.\n"
     ]
    },
    {
     "data": {
      "text/html": [
       "<table>\n",
       "    <thead>\n",
       "        <tr>\n",
       "            <th>sum(rainfall)</th>\n",
       "        </tr>\n",
       "    </thead>\n",
       "    <tbody>\n",
       "        <tr>\n",
       "            <td>27.6</td>\n",
       "        </tr>\n",
       "    </tbody>\n",
       "</table>"
      ],
      "text/plain": [
       "[(27.6,)]"
      ]
     },
     "execution_count": 52,
     "metadata": {},
     "output_type": "execute_result"
    }
   ],
   "source": [
    "%sql select sum(rainfall) from Dataset where City =='Cairo';"
   ]
  },
  {
   "cell_type": "markdown",
   "metadata": {},
   "source": [
    "# h) The total rainfall for each season.\n"
   ]
  },
  {
   "cell_type": "code",
   "execution_count": 53,
   "metadata": {},
   "outputs": [
    {
     "name": "stdout",
     "output_type": "stream",
     "text": [
      " * sqlite://\n",
      "Done.\n"
     ]
    },
    {
     "data": {
      "text/html": [
       "<table>\n",
       "    <thead>\n",
       "        <tr>\n",
       "            <th>Season</th>\n",
       "            <th>sum(Rainfall)</th>\n",
       "        </tr>\n",
       "    </thead>\n",
       "    <tbody>\n",
       "        <tr>\n",
       "            <td>Winter</td>\n",
       "            <td>27.6</td>\n",
       "        </tr>\n",
       "    </tbody>\n",
       "</table>"
      ],
      "text/plain": [
       "[('Winter', 27.6)]"
      ]
     },
     "execution_count": 53,
     "metadata": {},
     "output_type": "execute_result"
    }
   ],
   "source": [
    "%sql select season, sum(Rainfall) from Dataset where City =='Cairo';"
   ]
  },
  {
   "cell_type": "markdown",
   "metadata": {},
   "source": [
    "# Question 9\n",
    ". Suppose list words is defined as follows:\n",
    ">>> words = ['The', 'quick', 'brown', 'fox', 'jumps', 'over',\n",
    "'the', 'lazy', 'dog']\n",
    "Write list comprehension expressions that use list words and generate the following\n",
    "lists:\n",
    "a) ['THE', 'QUICK', 'BROWN', 'FOX', 'JUMPS', 'OVER', 'THE',\n",
    "'LAZY', 'DOG']\n",
    "b) ['the', 'quick', 'brown', 'fox', 'jumps', 'over', 'the',\n",
    "'lazy', 'dog']\n",
    "c) [3, 5, 5, 3, 5, 4, 3, 4, 3] (the list of lengths of words in list\n",
    "words).\n",
    "d) [['THE', 'the', 3], ['QUICK', 'quick', 5], ['BROWN',\n",
    "'brown', 5], ['FOX', 'fox', 3], ['JUMPS', 'jumps', 5],\n",
    "['OVER', 'over', 4], ['THE', 'the', 3], ['LAZY', 'lazy',\n",
    "4], ['DOG', 'dog', 3]] (the list containing a list for every word of list\n",
    "words, where each list contains the word in uppercase and lowercase and the\n",
    "length of the word.)\n",
    "e) ['The', 'quick', 'brown', 'fox', 'jumps', 'over', 'the',\n",
    "'lazy', 'dog'] (the list of words in list words containing 4 or more\n",
    "characters.)"
   ]
  },
  {
   "cell_type": "code",
   "execution_count": 35,
   "metadata": {},
   "outputs": [
    {
     "name": "stdout",
     "output_type": "stream",
     "text": [
      "['THE', 'QUICK', 'BROWN', 'FOX', 'JUMPS', 'OVER', 'THE', 'LAZY', 'DOG']\n"
     ]
    }
   ],
   "source": [
    "words = ['The', 'quick', 'brown', 'fox', 'jumps', 'over', 'the', 'lazy', 'dog']\n",
    "print([j.upper() for j in words])"
   ]
  },
  {
   "cell_type": "code",
   "execution_count": 36,
   "metadata": {},
   "outputs": [
    {
     "name": "stdout",
     "output_type": "stream",
     "text": [
      "['the', 'quick', 'brown', 'fox', 'jumps', 'over', 'the', 'lazy', 'dog']\n"
     ]
    }
   ],
   "source": [
    "print([j.lower() for j in words])"
   ]
  },
  {
   "cell_type": "code",
   "execution_count": 37,
   "metadata": {},
   "outputs": [
    {
     "name": "stdout",
     "output_type": "stream",
     "text": [
      "[3, 5, 5, 3, 5, 4, 3, 4, 3]\n"
     ]
    }
   ],
   "source": [
    "print([len(j) for j in words])"
   ]
  },
  {
   "cell_type": "code",
   "execution_count": 38,
   "metadata": {},
   "outputs": [
    {
     "name": "stdout",
     "output_type": "stream",
     "text": [
      "[['THE', 'the', 3], ['QUICK', 'quick', 5], ['BROWN', 'brown', 5], ['FOX', 'fox', 3], ['JUMPS', 'jumps', 5], ['OVER', 'over', 4], ['THE', 'the', 3], ['LAZY', 'lazy', 4], ['DOG', 'dog', 3]]\n"
     ]
    }
   ],
   "source": [
    "print([[j.upper(), j.lower(), len(j)] for j in words])"
   ]
  },
  {
   "cell_type": "code",
   "execution_count": 39,
   "metadata": {},
   "outputs": [
    {
     "name": "stdout",
     "output_type": "stream",
     "text": [
      "['quick', 'brown', 'jumps', 'over', 'lazy']\n"
     ]
    }
   ],
   "source": [
    "print([j for j in words if len(j)>=4])"
   ]
  },
  {
   "cell_type": "code",
   "execution_count": null,
   "metadata": {},
   "outputs": [],
   "source": []
  }
 ],
 "metadata": {
  "kernelspec": {
   "display_name": "Python 3",
   "language": "python",
   "name": "python3"
  },
  "language_info": {
   "codemirror_mode": {
    "name": "ipython",
    "version": 3
   },
   "file_extension": ".py",
   "mimetype": "text/x-python",
   "name": "python",
   "nbconvert_exporter": "python",
   "pygments_lexer": "ipython3",
   "version": "3.8.5"
  }
 },
 "nbformat": 4,
 "nbformat_minor": 4
}
